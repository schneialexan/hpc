{
 "cells": [
  {
   "attachments": {},
   "cell_type": "markdown",
   "metadata": {},
   "source": [
    "#### Summation von n zahlen"
   ]
  },
  {
   "cell_type": "code",
   "execution_count": null,
   "metadata": {},
   "outputs": [],
   "source": [
    "def sum_it(n):\n",
    "    s = 0\n",
    "    a = [i+1 for i in range(n)]\n",
    "    for i in range(n):\n",
    "        s = s + a[i]\n",
    "    return s"
   ]
  },
  {
   "cell_type": "code",
   "execution_count": null,
   "metadata": {},
   "outputs": [],
   "source": [
    "n = 10\n",
    "sum_it(n)"
   ]
  },
  {
   "cell_type": "code",
   "execution_count": null,
   "metadata": {},
   "outputs": [],
   "source": [
    "test = 1000000\n",
    "%timeit -r 20 -n 20 sum_it(test)"
   ]
  },
  {
   "attachments": {},
   "cell_type": "markdown",
   "metadata": {},
   "source": [
    "#### Parallelisierung durch Blöcke"
   ]
  },
  {
   "cell_type": "code",
   "execution_count": null,
   "metadata": {},
   "outputs": [],
   "source": [
    "import multiprocessing as mp\n",
    "import numpy as np"
   ]
  },
  {
   "cell_type": "code",
   "execution_count": null,
   "metadata": {},
   "outputs": [],
   "source": [
    "def parallel_sum(a, my_rank, segment):\n",
    "    summe = 0\n",
    "    for i in range(segment):\n",
    "        summe += a[i + my_rank * segment]\n",
    "    return summe\n",
    "\n",
    "def sum_par_1(n, p=None):\n",
    "    if p is None:\n",
    "        p = int(np.ceil(np.log2(n)))\n",
    "    a = [i+1 for i in range(n)]\n",
    "    segment = n//p\n",
    "    pool = mp.Pool(processes=p)\n",
    "    summen = pool.starmap(parallel_sum, [(a, i, segment) for i in range(p)])\n",
    "    pool.close()\n",
    "    pool.join()\n",
    "    return sum(summen)"
   ]
  },
  {
   "cell_type": "code",
   "execution_count": null,
   "metadata": {},
   "outputs": [],
   "source": [
    "n = 10\n",
    "sum_par_1(n, 2)"
   ]
  },
  {
   "cell_type": "code",
   "execution_count": null,
   "metadata": {},
   "outputs": [],
   "source": [
    "test = 1000000 # 1 mil\n",
    "p = 4\n",
    "%timeit -r 20 -n 20 sum_par_1(test, p)"
   ]
  },
  {
   "attachments": {},
   "cell_type": "markdown",
   "metadata": {},
   "source": [
    "#### Berechnung durch Formel"
   ]
  },
  {
   "cell_type": "code",
   "execution_count": null,
   "metadata": {},
   "outputs": [],
   "source": [
    "def formel(n):\n",
    "    return (n*(n+1))/2\n",
    "test = 1000000 # 1 mil\n",
    "%timeit -r 100 -n 20 formel(test)"
   ]
  },
  {
   "cell_type": "code",
   "execution_count": null,
   "metadata": {},
   "outputs": [],
   "source": [
    "test = 10\n",
    "formel(test)"
   ]
  },
  {
   "cell_type": "code",
   "execution_count": null,
   "metadata": {},
   "outputs": [],
   "source": [
    "test = 1000000 # 1 mil\n",
    "%timeit -r 100 -n 100 formel(test)"
   ]
  },
  {
   "attachments": {},
   "cell_type": "markdown",
   "metadata": {},
   "source": [
    "#### Berechnung durch Baum-Reduktion"
   ]
  },
  {
   "cell_type": "code",
   "execution_count": null,
   "metadata": {},
   "outputs": [],
   "source": [
    "def tree_reduction(n):\n",
    "    tree = [i+1 for i in range(n)]\n",
    "    \n",
    "    while n > 1:\n",
    "        # Neue Ebene im Baum erstellen\n",
    "        new_n = (n + 1) // 2\n",
    "        new_tree = [0] * new_n\n",
    "        \n",
    "        # Elemente der neuen Ebene berechnen\n",
    "        for i in range(0, n, 2):\n",
    "            j = i + 1\n",
    "            if j < n:\n",
    "                new_tree[i//2] = tree[i] + tree[j]\n",
    "            else:\n",
    "                new_tree[i//2] = tree[i]\n",
    "        \n",
    "        # Neue Ebene in den Baum einfügen\n",
    "        tree = new_tree\n",
    "        n = new_n\n",
    "    \n",
    "    # Rückgabe der Gesamtsumme\n",
    "    return tree[0]"
   ]
  },
  {
   "cell_type": "code",
   "execution_count": null,
   "metadata": {},
   "outputs": [],
   "source": [
    "x = 10\n",
    "tree_reduction(x)"
   ]
  },
  {
   "cell_type": "code",
   "execution_count": null,
   "metadata": {},
   "outputs": [],
   "source": [
    "# 1 tril\n",
    "test = 1000000\n",
    "%timeit -r 20 -n 20 tree_reduction(test)"
   ]
  },
  {
   "attachments": {},
   "cell_type": "markdown",
   "metadata": {},
   "source": [
    "#### Berechnung durch Threading"
   ]
  },
  {
   "cell_type": "code",
   "execution_count": null,
   "metadata": {},
   "outputs": [],
   "source": [
    "import threading\n",
    "\n",
    "def threaded_reduction(n, num_threads=None):\n",
    "    if num_threads is None:\n",
    "        num_threads = int(np.ceil(np.log2(n)))\n",
    "    arr = [i+1 for i in range(n)]\n",
    "    chunk_size = (n + num_threads - 1) // num_threads\n",
    "    chunks = [arr[i:i+chunk_size] for i in range(0, n, chunk_size)]\n",
    "    chunk_sums = [0] * len(chunks)\n",
    "    \n",
    "    def reduce_chunk(chunk_idx):\n",
    "        chunk_sum = 0\n",
    "        for x in chunks[chunk_idx]:\n",
    "            chunk_sum += x\n",
    "        chunk_sums[chunk_idx] = chunk_sum\n",
    "    \n",
    "    threads = [threading.Thread(target=reduce_chunk, args=(i,))\n",
    "               for i in range(len(chunks))]\n",
    "    for thread in threads:\n",
    "        thread.start()\n",
    "    for thread in threads:\n",
    "        thread.join()\n",
    "    \n",
    "    total_sum = 0\n",
    "    for chunk_sum in chunk_sums:\n",
    "        total_sum += chunk_sum\n",
    "    \n",
    "    return total_sum"
   ]
  },
  {
   "cell_type": "code",
   "execution_count": null,
   "metadata": {},
   "outputs": [],
   "source": [
    "x = 10\n",
    "threaded_reduction(x, 2)"
   ]
  },
  {
   "cell_type": "code",
   "execution_count": null,
   "metadata": {},
   "outputs": [],
   "source": [
    "# 1 tril\n",
    "test = 1000000\n",
    "p = 4\n",
    "%timeit -r 20 -n 20 threaded_reduction(test, p)"
   ]
  },
  {
   "attachments": {},
   "cell_type": "markdown",
   "metadata": {},
   "source": [
    "#### Plot"
   ]
  },
  {
   "cell_type": "code",
   "execution_count": null,
   "metadata": {},
   "outputs": [],
   "source": [
    "import matplotlib.pyplot as plt\n",
    "import time"
   ]
  },
  {
   "cell_type": "code",
   "execution_count": null,
   "metadata": {},
   "outputs": [],
   "source": [
    "f1 = sum_it\n",
    "f2 = sum_par_1\n",
    "f3 = formel\n",
    "f4 = tree_reduction\n",
    "f5 = threaded_reduction"
   ]
  },
  {
   "cell_type": "code",
   "execution_count": null,
   "metadata": {},
   "outputs": [],
   "source": [
    "def time_function(f, n):\n",
    "    start = time.time()\n",
    "    print(f.__name__)\n",
    "    f(n)\n",
    "    return time.time() - start"
   ]
  },
  {
   "cell_type": "code",
   "execution_count": null,
   "metadata": {},
   "outputs": [],
   "source": [
    "arr = [10**i for i in range(1, 9)]\n",
    "timed = [time_function(f, n) for n in arr for f in [f1, f2, f3, f4, f5]]"
   ]
  },
  {
   "cell_type": "code",
   "execution_count": null,
   "metadata": {},
   "outputs": [],
   "source": [
    "best = [min(timed[i*5:i*5+5]) for i in range(len(arr))]"
   ]
  },
  {
   "cell_type": "code",
   "execution_count": null,
   "metadata": {},
   "outputs": [],
   "source": [
    "fig = plt.figure(figsize=(5, 5))\n",
    "plt.title('Laufzeitvergleich')\n",
    "plt.plot(arr, timed[:len(arr)], 'ko', label='sum_it')\n",
    "plt.plot(arr, timed[:len(arr)], 'k-')\n",
    "plt.plot(arr, timed[len(arr):len(arr)*2], 'bo', label='sum_par_1')\n",
    "plt.plot(arr, timed[len(arr):len(arr)*2], 'b-')\n",
    "plt.plot(arr, timed[len(arr)*2:len(arr)*3], 'rx', label='formel')\n",
    "plt.plot(arr, timed[len(arr)*2:len(arr)*3], 'r-')\n",
    "plt.plot(arr, timed[len(arr)*3:len(arr)*4], 'go', label='tree_reduction')\n",
    "plt.plot(arr, timed[len(arr)*3:len(arr)*4], 'g-')\n",
    "plt.plot(arr, timed[len(arr)*4:len(arr)*5], 'mo', label='threaded_reduction')\n",
    "plt.plot(arr, timed[len(arr)*4:len(arr)*5], 'm-')\n",
    "plt.xlabel('n')\n",
    "plt.ylabel('Laufzeit')\n",
    "plt.legend()\n",
    "plt.xscale('log')\n",
    "plt.savefig('laufzeitvergleich.png')"
   ]
  },
  {
   "attachments": {},
   "cell_type": "markdown",
   "metadata": {},
   "source": [
    "#### Andre Code"
   ]
  },
  {
   "cell_type": "code",
   "execution_count": null,
   "metadata": {},
   "outputs": [],
   "source": [
    "import multiprocessing\n",
    "import numpy as np\n",
    "import time\n",
    "\n",
    "start_time = time.time()\n",
    "\n",
    "n = 2**3\n",
    "h = round(np.log2(n))\n",
    "length = 2**(h+1)-1\n",
    "manager = multiprocessing.Manager()\n",
    "w = multiprocessing.Array('f',length)\n",
    "lock = multiprocessing.Lock()\n",
    "\n",
    "def sumNodes(args):\n",
    "    global w,h\n",
    "    l, i = args\n",
    "    sourceNodeBase = 2**(h+1) - 2**(h-(l-1))\n",
    "    targetNodeBase = 2**(h+1) - 2**(h-l)\n",
    "    k = i - sourceNodeBase + 2\n",
    "    m = (k-(k % 2))/2 - 1\n",
    "    q = sourceNodeBase + k-2\n",
    "    targetNode = int(targetNodeBase + m)\n",
    "    with lock:\n",
    "        w[targetNode] = w[targetNode] + w[q]\n",
    "        print(f\"w[{targetNode}] = w[{targetNode}] + w[{q}] -> {w[targetNode]}\")\n",
    "        print(w[:])\n",
    "    \n",
    "\n",
    "# test data\n",
    "for i in range(n):\n",
    "    w[i] = i+1\n",
    "print('Array', w[:])\n",
    "for l in range(0,h):\n",
    "    with multiprocessing.Pool(processes=10) as pool:\n",
    "        args = [(l, i) for i in range(int(n/(2**l)))]\n",
    "        pool.map(sumNodes, args)\n",
    "    print(int(n/(2**l)))\n",
    "print(w[-1])\n",
    "\n",
    "end_time = time.time()\n",
    "elapsed_time = end_time - start_time\n",
    "print(f\"Time taken to execute the code: {elapsed_time} seconds\")"
   ]
  },
  {
   "attachments": {},
   "cell_type": "markdown",
   "metadata": {},
   "source": [
    "#### Blöcke Methode"
   ]
  },
  {
   "cell_type": "code",
   "execution_count": null,
   "metadata": {},
   "outputs": [],
   "source": [
    "import multiprocessing\n",
    "\n",
    "def block_sum(start, end):\n",
    "    return sum(range(start, end))\n",
    "\n",
    "def parallel_sum(n, num_blocks=8):\n",
    "    pool = multiprocessing.Pool(processes=num_blocks)\n",
    "    block_size = n // num_blocks\n",
    "    results = [pool.apply_async(block_sum, (i*block_size+1, (i+1)*block_size+1)) for i in range(num_blocks)]\n",
    "    pool.close()\n",
    "    pool.join()\n",
    "    return sum(result.get() for result in results)\n",
    "\n",
    "test = 1000000\n",
    "p = 4\n",
    "%timeit -r 100 -n 20 parallel_sum(test, p)"
   ]
  },
  {
   "cell_type": "code",
   "execution_count": null,
   "metadata": {},
   "outputs": [],
   "source": [
    "import multiprocessing\n",
    "from tqdm import tqdm\n",
    "\n",
    "def block_sum(start, end):\n",
    "    return sum(range(start, end))\n",
    "\n",
    "def parallel_sum2(n, num_blocks):\n",
    "    pool = multiprocessing.Pool(processes=num_blocks)\n",
    "    block_size = n // num_blocks\n",
    "    results = []\n",
    "    for i in range(num_blocks):\n",
    "        start = i * block_size + 1\n",
    "        end = (i+1) * block_size + 1\n",
    "        result = pool.apply_async(block_sum, args=(start, end))\n",
    "        results.append(result)\n",
    "    pool.close()\n",
    "\n",
    "    # Fortschrittsanzeige\n",
    "    with tqdm(total=num_blocks) as pbar:\n",
    "        while results:\n",
    "            for i, result in enumerate(results):\n",
    "                if result.ready():\n",
    "                    pbar.update(1)\n",
    "                    results.pop(i)\n",
    "                    break\n",
    "\n",
    "    pool.join()\n",
    "    return sum(result.get() for result in results)\n",
    "\n",
    "n = 100000000000\n",
    "num_blocks = 64\n",
    "result = parallel_sum2(n, num_blocks)\n",
    "print(result)"
   ]
  }
 ],
 "metadata": {
  "kernelspec": {
   "display_name": "hpc",
   "language": "python",
   "name": "python3"
  },
  "language_info": {
   "codemirror_mode": {
    "name": "ipython",
    "version": 3
   },
   "file_extension": ".py",
   "mimetype": "text/x-python",
   "name": "python",
   "nbconvert_exporter": "python",
   "pygments_lexer": "ipython3",
   "version": "3.11.3"
  },
  "orig_nbformat": 4
 },
 "nbformat": 4,
 "nbformat_minor": 2
}
