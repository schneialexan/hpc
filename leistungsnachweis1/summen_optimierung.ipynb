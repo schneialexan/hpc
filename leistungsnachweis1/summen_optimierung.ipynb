{
 "cells": [
  {
   "attachments": {},
   "cell_type": "markdown",
   "metadata": {},
   "source": [
    "#### Summation von n zahlen"
   ]
  },
  {
   "cell_type": "code",
   "execution_count": 59,
   "metadata": {},
   "outputs": [],
   "source": [
    "def sum_it(n):\n",
    "    s = 0\n",
    "    a = [i+1 for i in range(n)]\n",
    "    for i in range(n):\n",
    "        s = s + a[i]\n",
    "    return s"
   ]
  },
  {
   "cell_type": "code",
   "execution_count": 60,
   "metadata": {},
   "outputs": [
    {
     "data": {
      "text/plain": [
       "55"
      ]
     },
     "execution_count": 60,
     "metadata": {},
     "output_type": "execute_result"
    }
   ],
   "source": [
    "n = 10\n",
    "sum_it(n)"
   ]
  },
  {
   "cell_type": "code",
   "execution_count": 61,
   "metadata": {},
   "outputs": [
    {
     "name": "stdout",
     "output_type": "stream",
     "text": [
      "64.7 ms ± 3.23 ms per loop (mean ± std. dev. of 20 runs, 20 loops each)\n"
     ]
    }
   ],
   "source": [
    "test = 1000000\n",
    "%timeit -r 20 -n 20 sum_it(test)"
   ]
  },
  {
   "attachments": {},
   "cell_type": "markdown",
   "metadata": {},
   "source": [
    "#### Parallelisierung durch Blöcke"
   ]
  },
  {
   "cell_type": "code",
   "execution_count": 62,
   "metadata": {},
   "outputs": [],
   "source": [
    "import multiprocessing as mp\n",
    "import numpy as np"
   ]
  },
  {
   "cell_type": "code",
   "execution_count": 63,
   "metadata": {},
   "outputs": [],
   "source": [
    "def parallel_sum(a, my_rank, segment):\n",
    "    summe = 0\n",
    "    for i in range(segment):\n",
    "        summe += a[i + my_rank * segment]\n",
    "    return summe\n",
    "\n",
    "def sum_par_1(n, p=None):\n",
    "    if p is None:\n",
    "        p = int(np.ceil(np.log2(n)))\n",
    "    a = [i+1 for i in range(n)]\n",
    "    segment = n//p\n",
    "    pool = mp.Pool(processes=p)\n",
    "    summen = pool.starmap(parallel_sum, [(a, i, segment) for i in range(p)])\n",
    "    pool.close()\n",
    "    pool.join()\n",
    "    return sum(summen)"
   ]
  },
  {
   "cell_type": "code",
   "execution_count": 64,
   "metadata": {},
   "outputs": [
    {
     "data": {
      "text/plain": [
       "55"
      ]
     },
     "execution_count": 64,
     "metadata": {},
     "output_type": "execute_result"
    }
   ],
   "source": [
    "n = 10\n",
    "sum_par_1(n, 2)"
   ]
  },
  {
   "cell_type": "code",
   "execution_count": 65,
   "metadata": {},
   "outputs": [
    {
     "name": "stdout",
     "output_type": "stream",
     "text": [
      "308 ms ± 3.52 ms per loop (mean ± std. dev. of 20 runs, 20 loops each)\n"
     ]
    }
   ],
   "source": [
    "test = 1000000 # 1 mil\n",
    "p = 4\n",
    "%timeit -r 20 -n 20 sum_par_1(test, p)"
   ]
  },
  {
   "attachments": {},
   "cell_type": "markdown",
   "metadata": {},
   "source": [
    "#### Berechnung durch Formel"
   ]
  },
  {
   "cell_type": "code",
   "execution_count": 91,
   "metadata": {},
   "outputs": [
    {
     "name": "stdout",
     "output_type": "stream",
     "text": [
      "107 ns ± 49 ns per loop (mean ± std. dev. of 100 runs, 20 loops each)\n"
     ]
    }
   ],
   "source": [
    "def formel(n):\n",
    "    return (n*(n+1))/2\n",
    "test = 1000000 # 1 mil\n",
    "%timeit -r 100 -n 20 formel(test)"
   ]
  },
  {
   "cell_type": "code",
   "execution_count": 67,
   "metadata": {},
   "outputs": [
    {
     "data": {
      "text/plain": [
       "55.0"
      ]
     },
     "execution_count": 67,
     "metadata": {},
     "output_type": "execute_result"
    }
   ],
   "source": [
    "test = 10\n",
    "formel(test)"
   ]
  },
  {
   "cell_type": "code",
   "execution_count": 68,
   "metadata": {},
   "outputs": [
    {
     "name": "stdout",
     "output_type": "stream",
     "text": [
      "The slowest run took 291.63 times longer than the fastest. This could mean that an intermediate result is being cached.\n",
      "390 ns ± 2.62 µs per loop (mean ± std. dev. of 100 runs, 100 loops each)\n"
     ]
    }
   ],
   "source": [
    "test = 1000000 # 1 mil\n",
    "%timeit -r 100 -n 100 formel(test)"
   ]
  },
  {
   "attachments": {},
   "cell_type": "markdown",
   "metadata": {},
   "source": [
    "#### Berechnung durch Baum-Reduktion"
   ]
  },
  {
   "cell_type": "code",
   "execution_count": 69,
   "metadata": {},
   "outputs": [],
   "source": [
    "def tree_reduction(n):\n",
    "    tree = [i+1 for i in range(n)]\n",
    "    \n",
    "    while n > 1:\n",
    "        # Neue Ebene im Baum erstellen\n",
    "        new_n = (n + 1) // 2\n",
    "        new_tree = [0] * new_n\n",
    "        \n",
    "        # Elemente der neuen Ebene berechnen\n",
    "        for i in range(0, n, 2):\n",
    "            j = i + 1\n",
    "            if j < n:\n",
    "                new_tree[i//2] = tree[i] + tree[j]\n",
    "            else:\n",
    "                new_tree[i//2] = tree[i]\n",
    "        \n",
    "        # Neue Ebene in den Baum einfügen\n",
    "        tree = new_tree\n",
    "        n = new_n\n",
    "    \n",
    "    # Rückgabe der Gesamtsumme\n",
    "    return tree[0]"
   ]
  },
  {
   "cell_type": "code",
   "execution_count": 70,
   "metadata": {},
   "outputs": [
    {
     "data": {
      "text/plain": [
       "55"
      ]
     },
     "execution_count": 70,
     "metadata": {},
     "output_type": "execute_result"
    }
   ],
   "source": [
    "x = 10\n",
    "tree_reduction(x)"
   ]
  },
  {
   "cell_type": "code",
   "execution_count": 71,
   "metadata": {},
   "outputs": [
    {
     "name": "stdout",
     "output_type": "stream",
     "text": [
      "104 ms ± 6.42 ms per loop (mean ± std. dev. of 20 runs, 20 loops each)\n"
     ]
    }
   ],
   "source": [
    "# 1 tril\n",
    "test = 1000000\n",
    "%timeit -r 20 -n 20 tree_reduction(test)"
   ]
  },
  {
   "attachments": {},
   "cell_type": "markdown",
   "metadata": {},
   "source": [
    "#### Berechnung durch Threading"
   ]
  },
  {
   "cell_type": "code",
   "execution_count": 72,
   "metadata": {},
   "outputs": [],
   "source": [
    "import threading\n",
    "\n",
    "def threaded_reduction(n, num_threads=None):\n",
    "    if num_threads is None:\n",
    "        num_threads = int(np.ceil(np.log2(n)))\n",
    "    arr = [i+1 for i in range(n)]\n",
    "    chunk_size = (n + num_threads - 1) // num_threads\n",
    "    chunks = [arr[i:i+chunk_size] for i in range(0, n, chunk_size)]\n",
    "    chunk_sums = [0] * len(chunks)\n",
    "    \n",
    "    def reduce_chunk(chunk_idx):\n",
    "        chunk_sum = 0\n",
    "        for x in chunks[chunk_idx]:\n",
    "            chunk_sum += x\n",
    "        chunk_sums[chunk_idx] = chunk_sum\n",
    "    \n",
    "    threads = [threading.Thread(target=reduce_chunk, args=(i,))\n",
    "               for i in range(len(chunks))]\n",
    "    for thread in threads:\n",
    "        thread.start()\n",
    "    for thread in threads:\n",
    "        thread.join()\n",
    "    \n",
    "    total_sum = 0\n",
    "    for chunk_sum in chunk_sums:\n",
    "        total_sum += chunk_sum\n",
    "    \n",
    "    return total_sum"
   ]
  },
  {
   "cell_type": "code",
   "execution_count": 73,
   "metadata": {},
   "outputs": [
    {
     "data": {
      "text/plain": [
       "55"
      ]
     },
     "execution_count": 73,
     "metadata": {},
     "output_type": "execute_result"
    }
   ],
   "source": [
    "x = 10\n",
    "threaded_reduction(x, 2)"
   ]
  },
  {
   "cell_type": "code",
   "execution_count": 74,
   "metadata": {},
   "outputs": [
    {
     "name": "stdout",
     "output_type": "stream",
     "text": [
      "104 ms ± 3.6 ms per loop (mean ± std. dev. of 20 runs, 20 loops each)\n"
     ]
    }
   ],
   "source": [
    "# 1 tril\n",
    "test = 1000000\n",
    "p = 4\n",
    "%timeit -r 20 -n 20 threaded_reduction(test, p)"
   ]
  },
  {
   "attachments": {},
   "cell_type": "markdown",
   "metadata": {},
   "source": [
    "#### Plot"
   ]
  },
  {
   "cell_type": "code",
   "execution_count": 75,
   "metadata": {},
   "outputs": [],
   "source": [
    "import matplotlib.pyplot as plt\n",
    "import time"
   ]
  },
  {
   "cell_type": "code",
   "execution_count": 80,
   "metadata": {},
   "outputs": [],
   "source": [
    "f1 = sum_it\n",
    "f2 = sum_par_1\n",
    "f3 = formel\n",
    "f4 = tree_reduction\n",
    "f5 = parallel_sum"
   ]
  },
  {
   "cell_type": "code",
   "execution_count": 83,
   "metadata": {},
   "outputs": [],
   "source": [
    "def time_function(f, n):\n",
    "    start = time.time()\n",
    "    print(f.__name__)\n",
    "    f(n)\n",
    "    return time.time() - start"
   ]
  },
  {
   "cell_type": "code",
   "execution_count": 86,
   "metadata": {},
   "outputs": [
    {
     "name": "stdout",
     "output_type": "stream",
     "text": [
      "sum_it\n",
      "sum_par_1\n"
     ]
    },
    {
     "ename": "TypeError",
     "evalue": "parallel_sum() takes from 1 to 2 positional arguments but 3 were given",
     "output_type": "error",
     "traceback": [
      "\u001b[0;31m---------------------------------------------------------------------------\u001b[0m",
      "\u001b[0;31mRemoteTraceback\u001b[0m                           Traceback (most recent call last)",
      "\u001b[0;31mRemoteTraceback\u001b[0m: \n\"\"\"\nTraceback (most recent call last):\n  File \"/home/schneialexan@edu.local/miniconda3/envs/hpc/lib/python3.11/multiprocessing/pool.py\", line 125, in worker\n    result = (True, func(*args, **kwds))\n                    ^^^^^^^^^^^^^^^^^^^\n  File \"/home/schneialexan@edu.local/miniconda3/envs/hpc/lib/python3.11/multiprocessing/pool.py\", line 51, in starmapstar\n    return list(itertools.starmap(args[0], args[1]))\n           ^^^^^^^^^^^^^^^^^^^^^^^^^^^^^^^^^^^^^^^^^\nTypeError: parallel_sum() takes from 1 to 2 positional arguments but 3 were given\n\"\"\"",
      "\nThe above exception was the direct cause of the following exception:\n",
      "\u001b[0;31mTypeError\u001b[0m                                 Traceback (most recent call last)",
      "Cell \u001b[0;32mIn[86], line 2\u001b[0m\n\u001b[1;32m      1\u001b[0m arr \u001b[39m=\u001b[39m [\u001b[39m10\u001b[39m\u001b[39m*\u001b[39m\u001b[39m*\u001b[39mi \u001b[39mfor\u001b[39;00m i \u001b[39min\u001b[39;00m \u001b[39mrange\u001b[39m(\u001b[39m1\u001b[39m, \u001b[39m9\u001b[39m)]\n\u001b[0;32m----> 2\u001b[0m timed \u001b[39m=\u001b[39m [time_function(f, n) \u001b[39mfor\u001b[39;49;00m n \u001b[39min\u001b[39;49;00m arr \u001b[39mfor\u001b[39;49;00m f \u001b[39min\u001b[39;49;00m [f1, f2, f3, f4, f5]]\n",
      "Cell \u001b[0;32mIn[86], line 2\u001b[0m, in \u001b[0;36m<listcomp>\u001b[0;34m(.0)\u001b[0m\n\u001b[1;32m      1\u001b[0m arr \u001b[39m=\u001b[39m [\u001b[39m10\u001b[39m\u001b[39m*\u001b[39m\u001b[39m*\u001b[39mi \u001b[39mfor\u001b[39;00m i \u001b[39min\u001b[39;00m \u001b[39mrange\u001b[39m(\u001b[39m1\u001b[39m, \u001b[39m9\u001b[39m)]\n\u001b[0;32m----> 2\u001b[0m timed \u001b[39m=\u001b[39m [time_function(f, n) \u001b[39mfor\u001b[39;00m n \u001b[39min\u001b[39;00m arr \u001b[39mfor\u001b[39;00m f \u001b[39min\u001b[39;00m [f1, f2, f3, f4, f5]]\n",
      "Cell \u001b[0;32mIn[83], line 4\u001b[0m, in \u001b[0;36mtime_function\u001b[0;34m(f, n)\u001b[0m\n\u001b[1;32m      2\u001b[0m start \u001b[39m=\u001b[39m time\u001b[39m.\u001b[39mtime()\n\u001b[1;32m      3\u001b[0m \u001b[39mprint\u001b[39m(f\u001b[39m.\u001b[39m\u001b[39m__name__\u001b[39m)\n\u001b[0;32m----> 4\u001b[0m f(n)\n\u001b[1;32m      5\u001b[0m \u001b[39mreturn\u001b[39;00m time\u001b[39m.\u001b[39mtime() \u001b[39m-\u001b[39m start\n",
      "Cell \u001b[0;32mIn[63], line 13\u001b[0m, in \u001b[0;36msum_par_1\u001b[0;34m(n, p)\u001b[0m\n\u001b[1;32m     11\u001b[0m segment \u001b[39m=\u001b[39m n\u001b[39m/\u001b[39m\u001b[39m/\u001b[39mp\n\u001b[1;32m     12\u001b[0m pool \u001b[39m=\u001b[39m mp\u001b[39m.\u001b[39mPool(processes\u001b[39m=\u001b[39mp)\n\u001b[0;32m---> 13\u001b[0m summen \u001b[39m=\u001b[39m pool\u001b[39m.\u001b[39;49mstarmap(parallel_sum, [(a, i, segment) \u001b[39mfor\u001b[39;49;00m i \u001b[39min\u001b[39;49;00m \u001b[39mrange\u001b[39;49m(p)])\n\u001b[1;32m     14\u001b[0m pool\u001b[39m.\u001b[39mclose()\n\u001b[1;32m     15\u001b[0m pool\u001b[39m.\u001b[39mjoin()\n",
      "File \u001b[0;32m~/miniconda3/envs/hpc/lib/python3.11/multiprocessing/pool.py:375\u001b[0m, in \u001b[0;36mPool.starmap\u001b[0;34m(self, func, iterable, chunksize)\u001b[0m\n\u001b[1;32m    369\u001b[0m \u001b[39mdef\u001b[39;00m \u001b[39mstarmap\u001b[39m(\u001b[39mself\u001b[39m, func, iterable, chunksize\u001b[39m=\u001b[39m\u001b[39mNone\u001b[39;00m):\n\u001b[1;32m    370\u001b[0m \u001b[39m    \u001b[39m\u001b[39m'''\u001b[39;00m\n\u001b[1;32m    371\u001b[0m \u001b[39m    Like `map()` method but the elements of the `iterable` are expected to\u001b[39;00m\n\u001b[1;32m    372\u001b[0m \u001b[39m    be iterables as well and will be unpacked as arguments. Hence\u001b[39;00m\n\u001b[1;32m    373\u001b[0m \u001b[39m    `func` and (a, b) becomes func(a, b).\u001b[39;00m\n\u001b[1;32m    374\u001b[0m \u001b[39m    '''\u001b[39;00m\n\u001b[0;32m--> 375\u001b[0m     \u001b[39mreturn\u001b[39;00m \u001b[39mself\u001b[39;49m\u001b[39m.\u001b[39;49m_map_async(func, iterable, starmapstar, chunksize)\u001b[39m.\u001b[39;49mget()\n",
      "File \u001b[0;32m~/miniconda3/envs/hpc/lib/python3.11/multiprocessing/pool.py:774\u001b[0m, in \u001b[0;36mApplyResult.get\u001b[0;34m(self, timeout)\u001b[0m\n\u001b[1;32m    772\u001b[0m     \u001b[39mreturn\u001b[39;00m \u001b[39mself\u001b[39m\u001b[39m.\u001b[39m_value\n\u001b[1;32m    773\u001b[0m \u001b[39melse\u001b[39;00m:\n\u001b[0;32m--> 774\u001b[0m     \u001b[39mraise\u001b[39;00m \u001b[39mself\u001b[39m\u001b[39m.\u001b[39m_value\n",
      "\u001b[0;31mTypeError\u001b[0m: parallel_sum() takes from 1 to 2 positional arguments but 3 were given"
     ]
    }
   ],
   "source": [
    "arr = [10**i for i in range(1, 9)]\n",
    "timed = [time_function(f, n) for n in arr for f in [f1, f2, f3, f4, f5]]"
   ]
  },
  {
   "cell_type": "code",
   "execution_count": null,
   "metadata": {},
   "outputs": [],
   "source": [
    "best = [min(timed[i*5:i*5+5]) for i in range(len(arr))]"
   ]
  },
  {
   "cell_type": "code",
   "execution_count": null,
   "metadata": {},
   "outputs": [
    {
     "data": {
      "image/png": "[encoded data removed]",
      "text/plain": [
       "<Figure size 500x500 with 1 Axes>"
      ]
     },
     "metadata": {},
     "output_type": "display_data"
    }
   ],
   "source": [
    "fig = plt.figure(figsize=(5, 5))\n",
    "plt.title('Laufzeitvergleich')\n",
    "plt.plot(arr, timed[:len(arr)], 'ko', label='sum_it')\n",
    "plt.plot(arr, timed[:len(arr)], 'k-')\n",
    "plt.plot(arr, timed[len(arr):len(arr)*2], 'bo', label='sum_par_1')\n",
    "plt.plot(arr, timed[len(arr):len(arr)*2], 'b-')\n",
    "plt.plot(arr, timed[len(arr)*2:len(arr)*3], 'rx', label='formel')\n",
    "plt.plot(arr, timed[len(arr)*2:len(arr)*3], 'r-')\n",
    "plt.plot(arr, timed[len(arr)*3:len(arr)*4], 'go', label='tree_reduction')\n",
    "plt.plot(arr, timed[len(arr)*3:len(arr)*4], 'g-')\n",
    "plt.plot(arr, timed[len(arr)*4:len(arr)*5], 'mo', label='threaded_reduction')\n",
    "plt.plot(arr, timed[len(arr)*4:len(arr)*5], 'm-')\n",
    "plt.xlabel('n')\n",
    "plt.ylabel('Laufzeit')\n",
    "plt.legend()\n",
    "plt.xscale('log')\n",
    "plt.savefig('laufzeitvergleich.png')"
   ]
  },
  {
   "attachments": {},
   "cell_type": "markdown",
   "metadata": {},
   "source": [
    "#### Andre Code"
   ]
  },
  {
   "cell_type": "code",
   "execution_count": null,
   "metadata": {},
   "outputs": [
    {
     "name": "stdout",
     "output_type": "stream",
     "text": [
      "Array [1.0, 2.0, 3.0, 4.0, 5.0, 6.0, 7.0, 8.0, 0.0, 0.0, 0.0, 0.0, 0.0, 0.0, 0.0]\n",
      "w[8] = w[8] + w[0] -> 1.0\n",
      "[1.0, 2.0, 3.0, 4.0, 5.0, 6.0, 7.0, 8.0, 1.0, 0.0, 0.0, 0.0, 0.0, 0.0, 0.0]\n",
      "w[8] = w[8] + w[1] -> 3.0\n",
      "[1.0, 2.0, 3.0, 4.0, 5.0, 6.0, 7.0, 8.0, 3.0, 0.0, 0.0, 0.0, 0.0, 0.0, 0.0]\n",
      "w[9] = w[9] + w[2] -> 3.0\n",
      "[1.0, 2.0, 3.0, 4.0, 5.0, 6.0, 7.0, 8.0, 3.0, 3.0, 0.0, 0.0, 0.0, 0.0, 0.0]\n",
      "w[9] = w[9] + w[3] -> 7.0\n",
      "[1.0, 2.0, 3.0, 4.0, 5.0, 6.0, 7.0, 8.0, 3.0, 7.0, 0.0, 0.0, 0.0, 0.0, 0.0]\n",
      "w[10] = w[10] + w[4] -> 5.0\n",
      "[1.0, 2.0, 3.0, 4.0, 5.0, 6.0, 7.0, 8.0, 3.0, 7.0, 5.0, 0.0, 0.0, 0.0, 0.0]\n",
      "w[10] = w[10] + w[5] -> 11.0\n",
      "[1.0, 2.0, 3.0, 4.0, 5.0, 6.0, 7.0, 8.0, 3.0, 7.0, 11.0, 0.0, 0.0, 0.0, 0.0]\n",
      "w[11] = w[11] + w[6] -> 7.0\n",
      "[1.0, 2.0, 3.0, 4.0, 5.0, 6.0, 7.0, 8.0, 3.0, 7.0, 11.0, 7.0, 0.0, 0.0, 0.0]\n",
      "w[11] = w[11] + w[7] -> 15.0\n",
      "[1.0, 2.0, 3.0, 4.0, 5.0, 6.0, 7.0, 8.0, 3.0, 7.0, 11.0, 15.0, 0.0, 0.0, 0.0]\n",
      "8\n",
      "w[8] = w[8] + w[0] -> 4.0\n",
      "[1.0, 2.0, 3.0, 4.0, 5.0, 6.0, 7.0, 8.0, 4.0, 7.0, 11.0, 15.0, 0.0, 0.0, 0.0]\n",
      "w[8] = w[8] + w[1] -> 6.0\n",
      "[1.0, 2.0, 3.0, 4.0, 5.0, 6.0, 7.0, 8.0, 6.0, 7.0, 11.0, 15.0, 0.0, 0.0, 0.0]\n",
      "w[9] = w[9] + w[2] -> 10.0\n",
      "[1.0, 2.0, 3.0, 4.0, 5.0, 6.0, 7.0, 8.0, 6.0, 10.0, 11.0, 15.0, 0.0, 0.0, 0.0]\n",
      "w[9] = w[9] + w[3] -> 14.0\n",
      "[1.0, 2.0, 3.0, 4.0, 5.0, 6.0, 7.0, 8.0, 6.0, 14.0, 11.0, 15.0, 0.0, 0.0, 0.0]\n",
      "4\n",
      "w[8] = w[8] + w[0] -> 7.0\n",
      "[1.0, 2.0, 3.0, 4.0, 5.0, 6.0, 7.0, 8.0, 7.0, 14.0, 11.0, 15.0, 0.0, 0.0, 0.0]\n",
      "w[8] = w[8] + w[1] -> 9.0\n",
      "[1.0, 2.0, 3.0, 4.0, 5.0, 6.0, 7.0, 8.0, 9.0, 14.0, 11.0, 15.0, 0.0, 0.0, 0.0]\n",
      "2\n",
      "0.0\n",
      "Time taken to execute the code: 0.3432352542877197 seconds\n"
     ]
    }
   ],
   "source": [
    "import multiprocessing\n",
    "import mmap\n",
    "import numpy as np\n",
    "import time\n",
    "import sys\n",
    "\n",
    "start_time = time.time()\n",
    "\n",
    "n = 2**3\n",
    "h = round(np.log2(n))\n",
    "length = 2**(h+1)-1\n",
    "manager = multiprocessing.Manager()\n",
    "w = multiprocessing.Array('f',length)\n",
    "lock = multiprocessing.Lock()\n",
    "\n",
    "def sumNodes(args):\n",
    "    global w,h\n",
    "    l, i = args\n",
    "    sourceNodeBase = 2**(h+1) - 2**(h-(l-1))\n",
    "    targetNodeBase = 2**(h+1) - 2**(h-l)\n",
    "    k = i - sourceNodeBase + 2\n",
    "    m = (k-(k % 2))/2 - 1\n",
    "    q = sourceNodeBase + k-2\n",
    "    targetNode = int(targetNodeBase + m)\n",
    "    with lock:\n",
    "        w[targetNode] = w[targetNode] + w[q]\n",
    "        print(f\"w[{targetNode}] = w[{targetNode}] + w[{q}] -> {w[targetNode]}\")\n",
    "        print(w[:])\n",
    "    \n",
    "\n",
    "# test data\n",
    "for i in range(n):\n",
    "    w[i] = i+1\n",
    "print('Array', w[:])\n",
    "for l in range(0,h):\n",
    "    with multiprocessing.Pool(processes=10) as pool:\n",
    "        args = [(l, i) for i in range(int(n/(2**l)))]\n",
    "        pool.map(sumNodes, args)\n",
    "    print(int(n/(2**l)))\n",
    "print(w[-1])\n",
    "\n",
    "end_time = time.time()\n",
    "elapsed_time = end_time - start_time\n",
    "print(f\"Time taken to execute the code: {elapsed_time} seconds\")"
   ]
  },
  {
   "cell_type": "code",
   "execution_count": 90,
   "metadata": {},
   "outputs": [
    {
     "name": "stdout",
     "output_type": "stream",
     "text": [
      "43.1 ms ± 402 µs per loop (mean ± std. dev. of 100 runs, 20 loops each)\n"
     ]
    }
   ],
   "source": [
    "import multiprocessing\n",
    "\n",
    "def block_sum(start, end):\n",
    "    return sum(range(start, end))\n",
    "\n",
    "def parallel_sum(n, num_blocks=8):\n",
    "    pool = multiprocessing.Pool(processes=num_blocks)\n",
    "    block_size = n // num_blocks\n",
    "    results = [pool.apply_async(block_sum, (i*block_size+1, (i+1)*block_size+1)) for i in range(num_blocks)]\n",
    "    pool.close()\n",
    "    pool.join()\n",
    "    return sum(result.get() for result in results)\n",
    "\n",
    "test = 1000000\n",
    "p = 4\n",
    "%timeit -r 100 -n 20 parallel_sum(test, p)"
   ]
  },
  {
   "cell_type": "code",
   "execution_count": null,
   "metadata": {},
   "outputs": [
    {
     "name": "stderr",
     "output_type": "stream",
     "text": [
      "100%|██████████| 8/8 [05:25<00:00, 40.64s/it] "
     ]
    },
    {
     "name": "stdout",
     "output_type": "stream",
     "text": [
      "0\n"
     ]
    },
    {
     "name": "stderr",
     "output_type": "stream",
     "text": [
      "\n"
     ]
    }
   ],
   "source": [
    "import multiprocessing\n",
    "from tqdm import tqdm\n",
    "\n",
    "def block_sum(start, end):\n",
    "    return sum(range(start, end))\n",
    "\n",
    "def parallel_sum2(n, num_blocks):\n",
    "    pool = multiprocessing.Pool(processes=num_blocks)\n",
    "    block_size = n // num_blocks\n",
    "    results = []\n",
    "    for i in range(num_blocks):\n",
    "        start = i * block_size + 1\n",
    "        end = (i+1) * block_size + 1\n",
    "        result = pool.apply_async(block_sum, args=(start, end))\n",
    "        results.append(result)\n",
    "    pool.close()\n",
    "\n",
    "    # Fortschrittsanzeige\n",
    "    with tqdm(total=num_blocks) as pbar:\n",
    "        while results:\n",
    "            for i, result in enumerate(results):\n",
    "                if result.ready():\n",
    "                    pbar.update(1)\n",
    "                    results.pop(i)\n",
    "                    break\n",
    "\n",
    "    pool.join()\n",
    "    return sum(result.get() for result in results)\n",
    "\n",
    "n = 100000000000\n",
    "num_blocks = 64\n",
    "result = parallel_sum2(n, num_blocks)\n",
    "print(result)"
   ]
  },
  {
   "cell_type": "code",
   "execution_count": null,
   "metadata": {},
   "outputs": [],
   "source": []
  }
 ],
 "metadata": {
  "kernelspec": {
   "display_name": "hpc",
   "language": "python",
   "name": "python3"
  },
  "language_info": {
   "codemirror_mode": {
    "name": "ipython",
    "version": 3
   },
   "file_extension": ".py",
   "mimetype": "text/x-python",
   "name": "python",
   "nbconvert_exporter": "python",
   "pygments_lexer": "ipython3",
   "version": "3.11.3"
  },
  "orig_nbformat": 4
 },
 "nbformat": 4,
 "nbformat_minor": 2
}
